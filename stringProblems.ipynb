{
 "cells": [
  {
   "cell_type": "code",
   "execution_count": 1,
   "metadata": {},
   "outputs": [
    {
     "name": "stdout",
     "output_type": "stream",
     "text": [
      "True\n"
     ]
    }
   ],
   "source": [
    "# Implement an algorithm to determine if a string has all unique characters. What if you cannot use additional data structures?\n",
    "\n",
    "def uniqueChars(stringToTest):\n",
    "  for x in stringToTest:\n",
    "    if stringToTest.rindex(x) != stringToTest.index(x):\n",
    "      return False\n",
    "  return True\n",
    "print(uniqueChars(\"hi\"))"
   ]
  },
  {
   "cell_type": "code",
   "execution_count": 2,
   "metadata": {},
   "outputs": [
    {
     "name": "stdout",
     "output_type": "stream",
     "text": [
      "True\n"
     ]
    }
   ],
   "source": [
    "# Given two strings, write a method to decide if one is a permutation of the other\n",
    "\n",
    "def determinePermutation(string1, string2):\n",
    "  if len(string1) != len(string2):\n",
    "    return False\n",
    "  for x in string1:\n",
    "    if x in string2:\n",
    "      string1.replace(x,'',1)\n",
    "      string2.replace(x,'',1)\n",
    "    else:\n",
    "      return False\n",
    "  return True\n",
    "\n",
    "print(determinePermutation(\"abbd\", \"abbd\"))"
   ]
  }
 ],
 "metadata": {
  "interpreter": {
   "hash": "aee8b7b246df8f9039afb4144a1f6fd8d2ca17a180786b69acc140d282b71a49"
  },
  "kernelspec": {
   "display_name": "Python 3.9.1 64-bit",
   "language": "python",
   "name": "python3"
  },
  "language_info": {
   "codemirror_mode": {
    "name": "ipython",
    "version": 3
   },
   "file_extension": ".py",
   "mimetype": "text/x-python",
   "name": "python",
   "nbconvert_exporter": "python",
   "pygments_lexer": "ipython3",
   "version": "3.9.1"
  },
  "orig_nbformat": 4
 },
 "nbformat": 4,
 "nbformat_minor": 2
}
